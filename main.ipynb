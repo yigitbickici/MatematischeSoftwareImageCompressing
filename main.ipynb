{
 "cells": [
  {
   "cell_type": "markdown",
   "metadata": {},
   "source": [
    "INTRODUCTION"
   ]
  },
  {
   "cell_type": "code",
   "execution_count": null,
   "metadata": {},
   "outputs": [],
   "source": [
    "import numpy as np\n",
    "from PIL import Image\n",
    "import matplotlib.pyplot as plt\n",
    "\n",
    "# Function to load an image and convert it to a grayscale numpy array\n",
    "def load_image(image_path):\n",
    "    image = Image.open(image_path)  # Open the image from the specified path\n",
    "    image = image.convert('L')      # Convert the image to grayscale ('L' mode)\n",
    "    image_array = np.array(image)   # Convert the image to a numpy array\n",
    "    return image_array              # Return the numpy array representation of the image\n",
    "\n",
    "# Path to the input image\n",
    "image_path = '/Users/yigitbickici/Documents/GitHub/MatematischeSoftwareImageProcessing/IMG_7864.png'\n",
    "\n",
    "# Load the image and convert it to a grayscale numpy array\n",
    "image_matrix = load_image(image_path)\n",
    "\n",
    "# Display the original image\n",
    "plt.imshow(image_matrix, cmap='gray')  # Display the image in grayscale\n",
    "plt.title('Original Image')            # Set the title of the plot\n",
    "plt.show()                             # Show the plot\n",
    "\n",
    "# Function to compress an image using Singular Value Decomposition (SVD)\n",
    "def compress_image(image_matrix, k):\n",
    "    U, S, Vt = np.linalg.svd(image_matrix, full_matrices=False)  # Perform SVD on the image matrix\n",
    "    S_k = np.diag(S[:k])  # Create a diagonal matrix from the first k singular values\n",
    "    U_k = U[:, :k]        # Take the first k columns of U\n",
    "    Vt_k = Vt[:k, :]      # Take the first k rows of Vt\n",
    "    compressed_image = np.dot(U_k, np.dot(S_k, Vt_k))  # Reconstruct the image using the reduced matrices\n",
    "    return compressed_image  # Return the compressed image\n",
    "\n",
    "# Rank (number of singular values to keep) for compression\n",
    "k = 50\n",
    "\n",
    "# Compress the image using the specified rank\n",
    "compressed_image_matrix = compress_image(image_matrix, k)\n",
    "\n",
    "# Display the compressed image\n",
    "plt.imshow(compressed_image_matrix, cmap='gray')  # Display the compressed image in grayscale\n",
    "plt.title(f'Compressed image with the rank of {k}')  # Set the title of the plot\n",
    "plt.show()  # Show the plot\n",
    "\n",
    "# Function to save a numpy array as an image\n",
    "def save_image(image_matrix, output_path):\n",
    "    image = Image.fromarray(np.uint8(image_matrix))  # Convert the numpy array to an image\n",
    "    image.save(output_path)  # Save the image to the specified path\n",
    "\n",
    "# List of different k values to test for compression\n",
    "k_values = [5, 20, 50, 100]\n",
    "\n",
    "# Compress the image using different k values and save the results\n",
    "for k in k_values:\n",
    "    compressed_image_matrix = compress_image(image_matrix, k)  # Compress the image using the current k value\n",
    "    output_path = f'compressed_image{k}.jpg'  # Define the output path for the compressed image\n",
    "    save_image(compressed_image_matrix, output_path)  # Save the compressed image\n",
    "    plt.imshow(compressed_image_matrix, cmap='gray')  # Display the compressed image in grayscale\n",
    "    plt.title(f'Compressed image with the rank of {k}')  # Set the title of the plot\n",
    "    plt.show()  # Show the plot\n"
   ]
  },
  {
   "cell_type": "markdown",
   "metadata": {},
   "source": [
    "MAIN FINDINGS\n"
   ]
  },
  {
   "cell_type": "markdown",
   "metadata": {},
   "source": [
    "CONCLUSION\n"
   ]
  },
  {
   "cell_type": "markdown",
   "metadata": {},
   "source": []
  },
  {
   "cell_type": "markdown",
   "metadata": {},
   "source": []
  },
  {
   "cell_type": "markdown",
   "metadata": {},
   "source": []
  }
 ],
 "metadata": {
  "kernelspec": {
   "display_name": "Python 3",
   "language": "python",
   "name": "python3"
  },
  "language_info": {
   "codemirror_mode": {
    "name": "ipython",
    "version": 3
   },
   "file_extension": ".py",
   "mimetype": "text/x-python",
   "name": "python",
   "nbconvert_exporter": "python",
   "pygments_lexer": "ipython3",
   "version": "3.10.10"
  }
 },
 "nbformat": 4,
 "nbformat_minor": 2
}
