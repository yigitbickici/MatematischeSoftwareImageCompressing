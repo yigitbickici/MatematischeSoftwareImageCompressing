{
 "cells": [
  {
   "cell_type": "code",
   "execution_count": null,
   "metadata": {},
   "outputs": [],
   "source": [
    "import numpy as np\n",
    "from PIL import Image\n",
    "import matplotlib.pyplot as plt\n",
    "\n",
    "\n",
    "def load_image(image_path):\n",
    "    image = Image.open(image_path)\n",
    "    image = image.convert('L')  \n",
    "    image_array = np.array(image)\n",
    "    return image_array\n",
    "\n",
    "image_path = '/Users/yigitbickici/Documents/GitHub/MatematischeSoftwareImageProcessing/IMG_7864.png'\n",
    "image_matrix = load_image(image_path)\n",
    "plt.imshow(image_matrix, cmap='gray')\n",
    "plt.title('Original Image')\n",
    "plt.show()\n",
    "\n",
    "#SVD \n",
    "def compress_image(image_matrix, k):\n",
    "    U, S, Vt = np.linalg.svd(image_matrix, full_matrices=False)\n",
    "    S_k = np.diag(S[:k])\n",
    "    U_k = U[:, :k]\n",
    "    Vt_k = Vt[:k, :]\n",
    "    compressed_image = np.dot(U_k, np.dot(S_k, Vt_k))\n",
    "    return compressed_image\n",
    "\n",
    "k = 50  \n",
    "compressed_image_matrix = compress_image(image_matrix, k)\n",
    "plt.imshow(compressed_image_matrix, cmap='gray')\n",
    "plt.title(f'Compressed image with the rank of {k}')\n",
    "plt.show()\n",
    "\n",
    "\n",
    "def save_image(image_matrix, output_path):\n",
    "    image = Image.fromarray(np.uint8(image_matrix))\n",
    "    image.save(output_path)\n",
    "\n",
    "\n",
    "k_values = [5, 20, 50, 100]\n",
    "for k in k_values:\n",
    "    compressed_image_matrix = compress_image(image_matrix, k)\n",
    "    output_path = f'compressed_image{k}.jpg'\n",
    "    save_image(compressed_image_matrix, output_path)\n",
    "    plt.imshow(compressed_image_matrix, cmap='gray')\n",
    "    plt.title(f'Compressed image with the rank of {k}')\n",
    "    plt.show()\n",
    "\n",
    "\n",
    "\n",
    "\n"
   ]
  }
 ],
 "metadata": {
  "kernelspec": {
   "display_name": "Python 3",
   "language": "python",
   "name": "python3"
  },
  "language_info": {
   "codemirror_mode": {
    "name": "ipython",
    "version": 3
   },
   "file_extension": ".py",
   "mimetype": "text/x-python",
   "name": "python",
   "nbconvert_exporter": "python",
   "pygments_lexer": "ipython3",
   "version": "3.10.10"
  }
 },
 "nbformat": 4,
 "nbformat_minor": 2
}
